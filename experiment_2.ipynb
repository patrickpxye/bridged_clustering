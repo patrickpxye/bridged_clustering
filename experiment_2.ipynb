{
 "cells": [
  {
   "cell_type": "code",
   "execution_count": 1,
   "metadata": {},
   "outputs": [],
   "source": [
    "import numpy as np\n",
    "from sklearn.mixture import GaussianMixture\n",
    "from sklearn.preprocessing import FunctionTransformer\n",
    "import pandas as pd\n",
    "import matplotlib.pyplot as plt\n",
    "from sklearn.decomposition import PCA\n",
    "from sklearn.preprocessing import StandardScaler\n",
    "from sklearn.metrics import adjusted_rand_score, normalized_mutual_info_score"
   ]
  },
  {
   "cell_type": "code",
   "execution_count": 2,
   "metadata": {},
   "outputs": [],
   "source": [
    "# Morphological traits 1 ~ 16\n",
    "df = pd.read_csv('herb_data.csv')\n",
    "df = df[df[\"Putative_spp\"] != \"Quercus sp.\"]\n",
    "df = df[df[\"Putative_spp\"] != \"Quercus buckleyi\"]\n",
    "#df = df[df[\"Putative_spp\"] != \"Quercus shumardii\"]\n",
    "#df = df[df[\"Putative_spp\"] != \"Quercus shumardii var. acerifolia first, Quercus shumardii later\"]\n",
    "df[\"spp\"] = df[\"Putative_spp\"].apply(lambda x: \"S\" if x == \"Quercus shumardii\" or x == \"Quercus shumardii var. acerifolia first, Quercus shumardii later\" else \"R\" if x == \"Quercus rubra\" else \"A\" if x == \"Quercus shumardii var. acerifolia\" else \"N/A\")\n",
    "\n",
    "df[\"Longitude\"] = df[\"Longitude\"].abs()\n",
    "data = df[[\"Latitude\", \"Longitude\"]].dropna()\n",
    "\n",
    "# Log-transform the data\n",
    "transformer = FunctionTransformer(np.log, validate=True)\n",
    "data_transformed = transformer.fit_transform(data)\n",
    "\n",
    "# Standardize the data (important for PCA)\n",
    "scaler = StandardScaler()\n",
    "data_standardized = scaler.fit_transform(data_transformed)"
   ]
  },
  {
   "cell_type": "code",
   "execution_count": null,
   "metadata": {},
   "outputs": [],
   "source": [
    "# Fit GMM with 3 components\n",
    "gmm = GaussianMixture(n_components=3, random_state=0)\n",
    "gmm.fit(data_standardized)\n",
    "cluster_labels = gmm.predict(data_standardized)\n",
    "\n",
    "#use k-means clustering instead of GMM\n",
    "# from sklearn.cluster import KMeans\n",
    "# kmeans = KMeans(n_clusters=3, random_state=0)\n",
    "# kmeans.fit(data_standardized)\n",
    "# cluster_labels = kmeans.predict(data_standardized)\n",
    "\n",
    "# Perform PCA\n",
    "pca = PCA(n_components=2)\n",
    "data_pca = pca.fit_transform(data_standardized)\n",
    "\n",
    "# Plot the PCA-transformed data\n",
    "plt.figure(figsize=(8, 6))\n",
    "scatter = plt.scatter(data_pca[:, 0], data_pca[:, 1], c=cluster_labels, cmap='viridis', edgecolor='k', alpha=0.7)\n",
    "plt.title('PCA of Leaf Traits Data with GMM Clustering')\n",
    "plt.xlabel('Principal Component 1')\n",
    "plt.ylabel('Principal Component 2')\n",
    "plt.colorbar(scatter, label='Cluster')\n",
    "plt.show()"
   ]
  }
 ],
 "metadata": {
  "kernelspec": {
   "display_name": "bkm",
   "language": "python",
   "name": "python3"
  },
  "language_info": {
   "codemirror_mode": {
    "name": "ipython",
    "version": 3
   },
   "file_extension": ".py",
   "mimetype": "text/x-python",
   "name": "python",
   "nbconvert_exporter": "python",
   "pygments_lexer": "ipython3",
   "version": "3.11.9"
  }
 },
 "nbformat": 4,
 "nbformat_minor": 2
}
