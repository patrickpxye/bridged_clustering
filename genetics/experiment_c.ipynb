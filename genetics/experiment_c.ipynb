{
 "cells": [
  {
   "cell_type": "code",
   "execution_count": 7740,
   "metadata": {},
   "outputs": [],
   "source": [
    "sample_size = 10"
   ]
  },
  {
   "cell_type": "code",
   "execution_count": 7754,
   "metadata": {},
   "outputs": [],
   "source": [
    "import numpy as np\n",
    "import pandas as pd\n",
    "import matplotlib.pyplot as plt\n",
    "from sklearn.decomposition import PCA\n",
    "from sklearn.preprocessing import StandardScaler\n",
    "from sklearn.metrics import adjusted_rand_score, normalized_mutual_info_score\n",
    "from sklearn.cluster import KMeans\n",
    "from sklearn.neighbors import KNeighborsRegressor\n",
    "import warnings\n",
    "warnings.filterwarnings(\"ignore\")"
   ]
  },
  {
   "cell_type": "code",
   "execution_count": 7742,
   "metadata": {},
   "outputs": [],
   "source": [
    "gene_df = pd.read_csv('data/gene_spec.csv')\n",
    "morph_df = pd.read_csv('data/morph.csv')"
   ]
  },
  {
   "cell_type": "code",
   "execution_count": 7743,
   "metadata": {},
   "outputs": [],
   "source": [
    "morph_df = morph_df.drop(['idx', 'Date', 'classification', 'uncertainty','Latitude', 'Longitude', 'Altitude.ft', 'Multi.Single.stem', 'General.location.Habitat', 'site', 'Putative_spp'], axis=1)\n",
    "morph_df = morph_df.dropna()\n",
    "morph_df = morph_df.replace(0, 1e-10)\n",
    "\n",
    "data = morph_df.drop(['TreeNo'], axis=1)\n",
    "\n",
    "scaler = StandardScaler()\n",
    "data = scaler.fit_transform(data)\n",
    "data = data[:, [0, 11, 7, 12, 16]]\n",
    "kmeans = KMeans(n_clusters=3, random_state=0)\n",
    "cluster_labels = kmeans.fit_predict(data)\n",
    "\n",
    "morph_df['morph_cluster'] = cluster_labels\n",
    "morph_df = morph_df[['TreeNo', 'morph_cluster']]\n",
    "\n",
    "morph_df.to_csv('data/morph_cluster.csv', index=False)"
   ]
  },
  {
   "cell_type": "code",
   "execution_count": 7744,
   "metadata": {},
   "outputs": [],
   "source": [
    "gene_df = pd.read_csv('data/gene_spec.csv')\n",
    "gene_df = gene_df[gene_df['spec'] != 'QB']\n",
    "gene_df = gene_df.drop(['DNA_ID', 'spec'], axis=1)\n",
    "data = gene_df.drop(['TreeNo'], axis=1)\n",
    "\n",
    "scaler = StandardScaler()\n",
    "data = scaler.fit_transform(data)\n",
    "data = data[:, [1,2,0]]\n",
    "kmeans = KMeans(n_clusters=3, random_state=0)\n",
    "cluster_labels = kmeans.fit_predict(data)\n",
    "\n",
    "gene_df['gene_cluster'] = cluster_labels\n",
    "gene_df.to_csv('data/gene_cluster.csv', index=False)"
   ]
  },
  {
   "cell_type": "code",
   "execution_count": 7745,
   "metadata": {},
   "outputs": [
    {
     "name": "stdout",
     "output_type": "stream",
     "text": [
      "[[0. 2. 2.]\n",
      " [0. 1. 3.]\n",
      " [1. 0. 1.]]\n",
      "Final decision array:\n",
      "[1 2 0]\n"
     ]
    }
   ],
   "source": [
    "joined_df= morph_df.merge(gene_df, on='TreeNo')\n",
    "\n",
    "# sample a random batch of rows\n",
    "sample = joined_df.sample(sample_size)\n",
    "\n",
    "# build an association matrix\n",
    "association_matrix = np.zeros((3,3))\n",
    "for i in range(3):\n",
    "    for j in range(3):\n",
    "        association_matrix[i,j] = np.sum((sample['morph_cluster'] == i) & (sample['gene_cluster'] == j))\n",
    "print(association_matrix)\n",
    "\n",
    "# Initialize decision array\n",
    "decision = np.zeros(3, dtype=int)\n",
    "\n",
    "# Create a copy of the association matrix to manipulate\n",
    "temp_matrix = association_matrix.copy()\n",
    "\n",
    "# Fill the decision array\n",
    "for _ in range(3):\n",
    "    # Find the index of the maximum value in the matrix\n",
    "    max_index = np.argmax(temp_matrix)\n",
    "    max_location = np.unravel_index(max_index, temp_matrix.shape)\n",
    "    \n",
    "    # Update the decision array with the column index of the maximum value\n",
    "    decision[max_location[0]] = max_location[1]\n",
    "    \n",
    "    # Set the maximum value to a very low number to ignore it in future iterations\n",
    "    temp_matrix[max_location[0], :] = -np.inf\n",
    "    temp_matrix[:, max_location[1]] = -np.inf\n",
    "\n",
    "print(\"Final decision array:\")\n",
    "print(decision)\n"
   ]
  },
  {
   "cell_type": "code",
   "execution_count": 7746,
   "metadata": {},
   "outputs": [],
   "source": [
    "morph_df[\"morph_predicted_gene_cluster\"] = morph_df.apply(lambda x: decision[x['morph_cluster']], axis=1)"
   ]
  },
  {
   "cell_type": "code",
   "execution_count": 7747,
   "metadata": {},
   "outputs": [],
   "source": [
    "average_gene = gene_df.groupby('gene_cluster').agg({'PC1': 'mean', 'PC2': 'mean', 'PC3': 'mean'}).reset_index()\n",
    "average_gene['gene_centroids'] = average_gene[['PC1', 'PC2', 'PC3']].values.tolist()\n",
    "average_gene = average_gene[['gene_cluster', 'gene_centroids']]"
   ]
  },
  {
   "cell_type": "code",
   "execution_count": 7748,
   "metadata": {},
   "outputs": [
    {
     "data": {
      "text/html": [
       "<div>\n",
       "<style scoped>\n",
       "    .dataframe tbody tr th:only-of-type {\n",
       "        vertical-align: middle;\n",
       "    }\n",
       "\n",
       "    .dataframe tbody tr th {\n",
       "        vertical-align: top;\n",
       "    }\n",
       "\n",
       "    .dataframe thead th {\n",
       "        text-align: right;\n",
       "    }\n",
       "</style>\n",
       "<table border=\"1\" class=\"dataframe\">\n",
       "  <thead>\n",
       "    <tr style=\"text-align: right;\">\n",
       "      <th></th>\n",
       "      <th>TreeNo</th>\n",
       "      <th>gene_cluster</th>\n",
       "      <th>gene_coordinates</th>\n",
       "      <th>gene_centroids</th>\n",
       "    </tr>\n",
       "  </thead>\n",
       "  <tbody>\n",
       "    <tr>\n",
       "      <th>0</th>\n",
       "      <td>QA-M11</td>\n",
       "      <td>0</td>\n",
       "      <td>[-8.431936096, -0.500913737, -11.54222572]</td>\n",
       "      <td>[-6.734983830851852, -0.017621014611111093, -8.922407703351851]</td>\n",
       "    </tr>\n",
       "    <tr>\n",
       "      <th>1</th>\n",
       "      <td>QA-M5</td>\n",
       "      <td>0</td>\n",
       "      <td>[-8.593978553, 0.414067943, -16.68961594]</td>\n",
       "      <td>[-6.734983830851852, -0.017621014611111093, -8.922407703351851]</td>\n",
       "    </tr>\n",
       "    <tr>\n",
       "      <th>2</th>\n",
       "      <td>QR-M1</td>\n",
       "      <td>2</td>\n",
       "      <td>[19.47262912, -1.953619719, -2.119561558]</td>\n",
       "      <td>[16.470120757953126, -1.844546040984375, 1.384113856109375]</td>\n",
       "    </tr>\n",
       "    <tr>\n",
       "      <th>3</th>\n",
       "      <td>QR-M14</td>\n",
       "      <td>0</td>\n",
       "      <td>[22.37592773, -2.003944438, -2.581493893]</td>\n",
       "      <td>[-6.734983830851852, -0.017621014611111093, -8.922407703351851]</td>\n",
       "    </tr>\n",
       "    <tr>\n",
       "      <th>4</th>\n",
       "      <td>QR-M15</td>\n",
       "      <td>0</td>\n",
       "      <td>[22.73439088, -1.946043139, -1.961701937]</td>\n",
       "      <td>[-6.734983830851852, -0.017621014611111093, -8.922407703351851]</td>\n",
       "    </tr>\n",
       "  </tbody>\n",
       "</table>\n",
       "</div>"
      ],
      "text/plain": [
       "   TreeNo  gene_cluster                            gene_coordinates  \\\n",
       "0  QA-M11             0  [-8.431936096, -0.500913737, -11.54222572]   \n",
       "1   QA-M5             0   [-8.593978553, 0.414067943, -16.68961594]   \n",
       "2   QR-M1             2   [19.47262912, -1.953619719, -2.119561558]   \n",
       "3  QR-M14             0   [22.37592773, -2.003944438, -2.581493893]   \n",
       "4  QR-M15             0   [22.73439088, -1.946043139, -1.961701937]   \n",
       "\n",
       "                                                    gene_centroids  \n",
       "0  [-6.734983830851852, -0.017621014611111093, -8.922407703351851]  \n",
       "1  [-6.734983830851852, -0.017621014611111093, -8.922407703351851]  \n",
       "2      [16.470120757953126, -1.844546040984375, 1.384113856109375]  \n",
       "3  [-6.734983830851852, -0.017621014611111093, -8.922407703351851]  \n",
       "4  [-6.734983830851852, -0.017621014611111093, -8.922407703351851]  "
      ]
     },
     "execution_count": 7748,
     "metadata": {},
     "output_type": "execute_result"
    }
   ],
   "source": [
    "gene_df['gene_coordinates'] = gene_df[['PC1', 'PC2', 'PC3']].values.tolist()\n",
    "gene_df = gene_df[['TreeNo', 'gene_coordinates']]\n",
    "joined_df = morph_df.merge(gene_df, on='TreeNo').drop(['morph_cluster'], axis=1)\n",
    "# rename columns\n",
    "joined_df = joined_df.rename(columns={'morph_predicted_gene_cluster': 'gene_cluster'})\n",
    "final_df = joined_df.merge(average_gene, on='gene_cluster')\n",
    "final_df.head()"
   ]
  },
  {
   "cell_type": "code",
   "execution_count": 7749,
   "metadata": {},
   "outputs": [],
   "source": [
    "def euclidean_distance(row):\n",
    "    return np.linalg.norm(np.array(row['gene_coordinates']) - np.array(row['gene_centroids']))\n",
    "\n",
    "final_df['bkm_distance'] = final_df.apply(euclidean_distance, axis=1)"
   ]
  },
  {
   "cell_type": "markdown",
   "metadata": {},
   "source": [
    "#### Control Group: KNearstNeighbors ####"
   ]
  },
  {
   "cell_type": "code",
   "execution_count": 7750,
   "metadata": {},
   "outputs": [],
   "source": [
    "morph_df = pd.read_csv('data/morph.csv')\n",
    "morph_df = morph_df.drop(['idx', 'Date', 'classification', 'uncertainty','Latitude', 'Longitude', 'Altitude.ft', 'Multi.Single.stem', 'General.location.Habitat', 'site', 'Putative_spp'], axis=1)\n",
    "morph_df = morph_df.dropna()\n",
    "morph_df = morph_df.replace(0, 1e-10)\n",
    "\n",
    "data = morph_df.drop(['TreeNo'], axis=1)\n",
    "\n",
    "scaler = StandardScaler()\n",
    "data = scaler.fit_transform(data)\n",
    "morph_df[[\"a\", \"b\", \"c\", \"d\", \"e\"]] = data[:, [0, 11, 7, 12, 16]]\n",
    "\n",
    "# convert to numpy matrix\n",
    "morph_df['morph_coordinates'] = morph_df[['a', 'b', 'c', 'd', 'e']].values.tolist()\n",
    "\n",
    "joined_df= morph_df.merge(gene_df, on='TreeNo')\n",
    "joined_df = joined_df[['TreeNo', 'morph_coordinates', 'gene_coordinates']]\n",
    "\n",
    "sample = joined_df.sample(sample_size)"
   ]
  },
  {
   "cell_type": "code",
   "execution_count": 7751,
   "metadata": {},
   "outputs": [],
   "source": [
    "X = np.array(sample['morph_coordinates'].tolist())\n",
    "y = np.array(sample['gene_coordinates'].tolist())\n",
    "\n",
    "knn_regressor = KNeighborsRegressor(n_neighbors=3)\n",
    "knn_regressor.fit(X, y)\n",
    "\n",
    "morph_df['knn_gene_predictions'] = morph_df['morph_coordinates'].apply(lambda x: knn_regressor.predict([x])[0])\n",
    "morph_df = morph_df[['TreeNo', 'knn_gene_predictions']]\n",
    "\n",
    "final_df = morph_df.merge(final_df, on='TreeNo')\n",
    "\n",
    "def euclidean_distance(row):\n",
    "    return np.linalg.norm(np.array(row['gene_coordinates']) - np.array(row['knn_gene_predictions']))\n",
    "\n",
    "final_df['knn_distance'] = final_df.apply(euclidean_distance, axis=1)"
   ]
  },
  {
   "cell_type": "code",
   "execution_count": 7752,
   "metadata": {},
   "outputs": [],
   "source": [
    "# save the final_df\n",
    "final_df.to_csv('data/final_df.csv', index=False)"
   ]
  },
  {
   "cell_type": "code",
   "execution_count": 7753,
   "metadata": {},
   "outputs": [
    {
     "name": "stdout",
     "output_type": "stream",
     "text": [
      "8.924153512625013\n",
      "10.44868119067046\n"
     ]
    }
   ],
   "source": [
    "# on average, which distance is smaller?\n",
    "print(final_df['bkm_distance'].mean())\n",
    "print(final_df['knn_distance'].mean())"
   ]
  }
 ],
 "metadata": {
  "kernelspec": {
   "display_name": "Python 3",
   "language": "python",
   "name": "python3"
  },
  "language_info": {
   "codemirror_mode": {
    "name": "ipython",
    "version": 3
   },
   "file_extension": ".py",
   "mimetype": "text/x-python",
   "name": "python",
   "nbconvert_exporter": "python",
   "pygments_lexer": "ipython3",
   "version": "3.12.4"
  }
 },
 "nbformat": 4,
 "nbformat_minor": 2
}
