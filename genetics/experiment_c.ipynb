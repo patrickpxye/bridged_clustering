{
 "cells": [
  {
   "cell_type": "code",
   "execution_count": 1410,
   "metadata": {},
   "outputs": [],
   "source": [
    "import numpy as np\n",
    "from sklearn.preprocessing import FunctionTransformer\n",
    "import pandas as pd\n",
    "import matplotlib.pyplot as plt\n",
    "from sklearn.decomposition import PCA\n",
    "from sklearn.preprocessing import StandardScaler\n",
    "from sklearn.metrics import adjusted_rand_score, normalized_mutual_info_score\n",
    "from sklearn.cluster import SpectralClustering, KMeans\n",
    "import warnings\n",
    "warnings.filterwarnings(\"ignore\")\n",
    "from genetic_utils import identify_spec, generate_pca_plot, generate_proportion_plot"
   ]
  },
  {
   "cell_type": "code",
   "execution_count": 1411,
   "metadata": {},
   "outputs": [],
   "source": [
    "gene_df = pd.read_csv('data/gene_spec.csv')\n",
    "morph_df = pd.read_csv('data/morph.csv')"
   ]
  },
  {
   "cell_type": "code",
   "execution_count": 1412,
   "metadata": {},
   "outputs": [],
   "source": [
    "morph_df = morph_df.drop(['idx', 'Date', 'classification', 'uncertainty','Latitude', 'Longitude', 'Altitude.ft', 'Multi.Single.stem', 'General.location.Habitat', 'site', 'Putative_spp'], axis=1)\n",
    "morph_df = morph_df.dropna()\n",
    "morph_df = morph_df.replace(0, 1e-10)\n",
    "\n",
    "data = morph_df.drop(['TreeNo'], axis=1)\n",
    "\n",
    "scaler = StandardScaler()\n",
    "data = scaler.fit_transform(data)\n",
    "data = data[:, [0, 11, 7, 12, 16]]\n",
    "kmeans = KMeans(n_clusters=3, random_state=0)\n",
    "cluster_labels = kmeans.fit_predict(data)\n",
    "\n",
    "morph_df['morph_cluster'] = cluster_labels\n",
    "morph_df = morph_df[['TreeNo', 'morph_cluster']]\n",
    "\n",
    "morph_df.to_csv('data/morph_cluster.csv', index=False)"
   ]
  },
  {
   "cell_type": "code",
   "execution_count": 1413,
   "metadata": {},
   "outputs": [],
   "source": [
    "gene_df = pd.read_csv('data/gene_spec.csv')\n",
    "gene_df = gene_df[gene_df['spec'] != 'QB']\n",
    "gene_df = gene_df.drop(['DNA_ID', 'spec'], axis=1)\n",
    "data = gene_df.drop(['TreeNo'], axis=1)\n",
    "\n",
    "scaler = StandardScaler()\n",
    "data = scaler.fit_transform(data)\n",
    "data = data[:, [1,2,0]]\n",
    "kmeans = KMeans(n_clusters=3, random_state=0)\n",
    "cluster_labels = kmeans.fit_predict(data)\n",
    "\n",
    "gene_df['gene_cluster'] = cluster_labels\n",
    "gene_df.to_csv('data/gene_cluster.csv', index=False)"
   ]
  },
  {
   "cell_type": "code",
   "execution_count": 1414,
   "metadata": {},
   "outputs": [
    {
     "name": "stdout",
     "output_type": "stream",
     "text": [
      "[[ 0. 18.  3.]\n",
      " [ 0.  2. 13.]\n",
      " [ 9.  3.  2.]]\n",
      "[1 2 0]\n"
     ]
    }
   ],
   "source": [
    "joined_df= morph_df.merge(gene_df, on='TreeNo')\n",
    "\n",
    "# sample a random batch of rows\n",
    "sample = joined_df.sample(50)\n",
    "\n",
    "# build an association matrix\n",
    "association_matrix = np.zeros((3,3))\n",
    "for i in range(3):\n",
    "    for j in range(3):\n",
    "        association_matrix[i,j] = np.sum((sample['morph_cluster'] == i) & (sample['gene_cluster'] == j))\n",
    "print(association_matrix)\n",
    "\n",
    "decision = np.argmax(association_matrix, axis=1)\n",
    "print(decision)"
   ]
  },
  {
   "cell_type": "code",
   "execution_count": 1415,
   "metadata": {},
   "outputs": [],
   "source": [
    "morph_df[\"morph_predicted_gene_cluster\"] = morph_df.apply(lambda x: decision[x['morph_cluster']], axis=1)"
   ]
  },
  {
   "cell_type": "code",
   "execution_count": 1416,
   "metadata": {},
   "outputs": [],
   "source": [
    "average_gene = gene_df.groupby('gene_cluster').agg({'PC1': 'mean', 'PC2': 'mean', 'PC3': 'mean', 'PC4': 'mean', 'PC5': 'mean', 'PC6': 'mean'}).reset_index()\n",
    "average_gene['gene_centroids'] = average_gene[['PC1', 'PC2', 'PC3', 'PC4', 'PC5', 'PC6']].values.tolist()\n",
    "average_gene = average_gene[['gene_cluster', 'gene_centroids']]"
   ]
  },
  {
   "cell_type": "code",
   "execution_count": 1417,
   "metadata": {},
   "outputs": [
    {
     "data": {
      "text/html": [
       "<div>\n",
       "<style scoped>\n",
       "    .dataframe tbody tr th:only-of-type {\n",
       "        vertical-align: middle;\n",
       "    }\n",
       "\n",
       "    .dataframe tbody tr th {\n",
       "        vertical-align: top;\n",
       "    }\n",
       "\n",
       "    .dataframe thead th {\n",
       "        text-align: right;\n",
       "    }\n",
       "</style>\n",
       "<table border=\"1\" class=\"dataframe\">\n",
       "  <thead>\n",
       "    <tr style=\"text-align: right;\">\n",
       "      <th></th>\n",
       "      <th>TreeNo</th>\n",
       "      <th>gene_cluster</th>\n",
       "      <th>gene_coordinates</th>\n",
       "      <th>gene_centroids</th>\n",
       "    </tr>\n",
       "  </thead>\n",
       "  <tbody>\n",
       "    <tr>\n",
       "      <th>0</th>\n",
       "      <td>QA-M11</td>\n",
       "      <td>0</td>\n",
       "      <td>[-8.431936096, -0.500913737, -11.54222572, -2....</td>\n",
       "      <td>[-6.734983830851852, -0.017621014611111093, -8...</td>\n",
       "    </tr>\n",
       "    <tr>\n",
       "      <th>1</th>\n",
       "      <td>QA-M5</td>\n",
       "      <td>0</td>\n",
       "      <td>[-8.593978553, 0.414067943, -16.68961594, -4.1...</td>\n",
       "      <td>[-6.734983830851852, -0.017621014611111093, -8...</td>\n",
       "    </tr>\n",
       "    <tr>\n",
       "      <th>2</th>\n",
       "      <td>QR-M1</td>\n",
       "      <td>2</td>\n",
       "      <td>[19.47262912, -1.953619719, -2.119561558, 6.92...</td>\n",
       "      <td>[16.470120757953126, -1.844546040984375, 1.384...</td>\n",
       "    </tr>\n",
       "    <tr>\n",
       "      <th>3</th>\n",
       "      <td>QR-M14</td>\n",
       "      <td>0</td>\n",
       "      <td>[22.37592773, -2.003944438, -2.581493893, 8.57...</td>\n",
       "      <td>[-6.734983830851852, -0.017621014611111093, -8...</td>\n",
       "    </tr>\n",
       "    <tr>\n",
       "      <th>4</th>\n",
       "      <td>QR-M15</td>\n",
       "      <td>0</td>\n",
       "      <td>[22.73439088, -1.946043139, -1.961701937, 8.42...</td>\n",
       "      <td>[-6.734983830851852, -0.017621014611111093, -8...</td>\n",
       "    </tr>\n",
       "  </tbody>\n",
       "</table>\n",
       "</div>"
      ],
      "text/plain": [
       "   TreeNo  gene_cluster                                   gene_coordinates  \\\n",
       "0  QA-M11             0  [-8.431936096, -0.500913737, -11.54222572, -2....   \n",
       "1   QA-M5             0  [-8.593978553, 0.414067943, -16.68961594, -4.1...   \n",
       "2   QR-M1             2  [19.47262912, -1.953619719, -2.119561558, 6.92...   \n",
       "3  QR-M14             0  [22.37592773, -2.003944438, -2.581493893, 8.57...   \n",
       "4  QR-M15             0  [22.73439088, -1.946043139, -1.961701937, 8.42...   \n",
       "\n",
       "                                      gene_centroids  \n",
       "0  [-6.734983830851852, -0.017621014611111093, -8...  \n",
       "1  [-6.734983830851852, -0.017621014611111093, -8...  \n",
       "2  [16.470120757953126, -1.844546040984375, 1.384...  \n",
       "3  [-6.734983830851852, -0.017621014611111093, -8...  \n",
       "4  [-6.734983830851852, -0.017621014611111093, -8...  "
      ]
     },
     "execution_count": 1417,
     "metadata": {},
     "output_type": "execute_result"
    }
   ],
   "source": [
    "gene_df['gene_coordinates'] = gene_df[['PC1', 'PC2', 'PC3', 'PC4', 'PC5', 'PC6']].values.tolist()\n",
    "gene_df = gene_df[['TreeNo', 'gene_coordinates']]\n",
    "joined_df = morph_df.merge(gene_df, on='TreeNo').drop(['morph_cluster'], axis=1)\n",
    "# rename columns\n",
    "joined_df = joined_df.rename(columns={'morph_predicted_gene_cluster': 'gene_cluster'})\n",
    "final_df = joined_df.merge(average_gene, on='gene_cluster')\n",
    "final_df.head()"
   ]
  },
  {
   "cell_type": "code",
   "execution_count": 1418,
   "metadata": {},
   "outputs": [
    {
     "data": {
      "text/html": [
       "<div>\n",
       "<style scoped>\n",
       "    .dataframe tbody tr th:only-of-type {\n",
       "        vertical-align: middle;\n",
       "    }\n",
       "\n",
       "    .dataframe tbody tr th {\n",
       "        vertical-align: top;\n",
       "    }\n",
       "\n",
       "    .dataframe thead th {\n",
       "        text-align: right;\n",
       "    }\n",
       "</style>\n",
       "<table border=\"1\" class=\"dataframe\">\n",
       "  <thead>\n",
       "    <tr style=\"text-align: right;\">\n",
       "      <th></th>\n",
       "      <th>TreeNo</th>\n",
       "      <th>gene_cluster</th>\n",
       "      <th>gene_coordinates</th>\n",
       "      <th>gene_centroids</th>\n",
       "      <th>bkm_distance</th>\n",
       "    </tr>\n",
       "  </thead>\n",
       "  <tbody>\n",
       "    <tr>\n",
       "      <th>0</th>\n",
       "      <td>QA-M11</td>\n",
       "      <td>0</td>\n",
       "      <td>[-8.431936096, -0.500913737, -11.54222572, -2....</td>\n",
       "      <td>[-6.734983830851852, -0.017621014611111093, -8...</td>\n",
       "      <td>6.097199</td>\n",
       "    </tr>\n",
       "    <tr>\n",
       "      <th>1</th>\n",
       "      <td>QA-M5</td>\n",
       "      <td>0</td>\n",
       "      <td>[-8.593978553, 0.414067943, -16.68961594, -4.1...</td>\n",
       "      <td>[-6.734983830851852, -0.017621014611111093, -8...</td>\n",
       "      <td>28.524137</td>\n",
       "    </tr>\n",
       "    <tr>\n",
       "      <th>2</th>\n",
       "      <td>QR-M1</td>\n",
       "      <td>2</td>\n",
       "      <td>[19.47262912, -1.953619719, -2.119561558, 6.92...</td>\n",
       "      <td>[16.470120757953126, -1.844546040984375, 1.384...</td>\n",
       "      <td>9.203637</td>\n",
       "    </tr>\n",
       "    <tr>\n",
       "      <th>3</th>\n",
       "      <td>QR-M14</td>\n",
       "      <td>0</td>\n",
       "      <td>[22.37592773, -2.003944438, -2.581493893, 8.57...</td>\n",
       "      <td>[-6.734983830851852, -0.017621014611111093, -8...</td>\n",
       "      <td>31.528820</td>\n",
       "    </tr>\n",
       "    <tr>\n",
       "      <th>4</th>\n",
       "      <td>QR-M15</td>\n",
       "      <td>0</td>\n",
       "      <td>[22.73439088, -1.946043139, -1.961701937, 8.42...</td>\n",
       "      <td>[-6.734983830851852, -0.017621014611111093, -8...</td>\n",
       "      <td>31.933072</td>\n",
       "    </tr>\n",
       "  </tbody>\n",
       "</table>\n",
       "</div>"
      ],
      "text/plain": [
       "   TreeNo  gene_cluster                                   gene_coordinates  \\\n",
       "0  QA-M11             0  [-8.431936096, -0.500913737, -11.54222572, -2....   \n",
       "1   QA-M5             0  [-8.593978553, 0.414067943, -16.68961594, -4.1...   \n",
       "2   QR-M1             2  [19.47262912, -1.953619719, -2.119561558, 6.92...   \n",
       "3  QR-M14             0  [22.37592773, -2.003944438, -2.581493893, 8.57...   \n",
       "4  QR-M15             0  [22.73439088, -1.946043139, -1.961701937, 8.42...   \n",
       "\n",
       "                                      gene_centroids  bkm_distance  \n",
       "0  [-6.734983830851852, -0.017621014611111093, -8...      6.097199  \n",
       "1  [-6.734983830851852, -0.017621014611111093, -8...     28.524137  \n",
       "2  [16.470120757953126, -1.844546040984375, 1.384...      9.203637  \n",
       "3  [-6.734983830851852, -0.017621014611111093, -8...     31.528820  \n",
       "4  [-6.734983830851852, -0.017621014611111093, -8...     31.933072  "
      ]
     },
     "execution_count": 1418,
     "metadata": {},
     "output_type": "execute_result"
    }
   ],
   "source": [
    "def euclidean_distance(row):\n",
    "    return np.linalg.norm(np.array(row['gene_coordinates']) - np.array(row['gene_centroids']))\n",
    "\n",
    "final_df['bkm_distance'] = final_df.apply(euclidean_distance, axis=1)\n",
    "final_df.head()"
   ]
  }
 ],
 "metadata": {
  "kernelspec": {
   "display_name": "Python 3",
   "language": "python",
   "name": "python3"
  },
  "language_info": {
   "codemirror_mode": {
    "name": "ipython",
    "version": 3
   },
   "file_extension": ".py",
   "mimetype": "text/x-python",
   "name": "python",
   "nbconvert_exporter": "python",
   "pygments_lexer": "ipython3",
   "version": "3.12.4"
  }
 },
 "nbformat": 4,
 "nbformat_minor": 2
}
