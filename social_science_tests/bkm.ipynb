{
 "cells": [
  {
   "cell_type": "code",
   "execution_count": 1,
   "metadata": {},
   "outputs": [],
   "source": [
    "import numpy as np\n",
    "import pandas as pd\n",
    "from utils import perform_kmeans, format_data, plot_clusters"
   ]
  },
  {
   "cell_type": "code",
   "execution_count": 3,
   "metadata": {},
   "outputs": [
    {
     "name": "stdout",
     "output_type": "stream",
     "text": [
      "Number of clusters:  12\n",
      "Silhouette Score:  0.734160141776138\n",
      "Purity:  0.8757763975155279\n",
      "Number of clusters:  12\n",
      "Silhouette Score:  0.758350122407776\n",
      "Purity:  0.8695652173913043\n"
     ]
    }
   ],
   "source": [
    "#DATA PREPROCESSING\n",
    "data = pd.read_csv('data/finance.csv')\n",
    "I = 'Company'\n",
    "\n",
    "inputset = ['Category', 'EBITDA', 'Current Ratio']\n",
    "outputset = ['Category', 'Revenue', 'Share Holder Equity']\n",
    "input_data = data[[I]+inputset]\n",
    "output_data = data[[I]+outputset]\n",
    "input_model, input_sil, input_purity = perform_kmeans(input_data, I)\n",
    "output_model, output_sil, output_purity = perform_kmeans(output_data, I)"
   ]
  }
 ],
 "metadata": {
  "kernelspec": {
   "display_name": "bkm",
   "language": "python",
   "name": "python3"
  },
  "language_info": {
   "codemirror_mode": {
    "name": "ipython",
    "version": 3
   },
   "file_extension": ".py",
   "mimetype": "text/x-python",
   "name": "python",
   "nbconvert_exporter": "python",
   "pygments_lexer": "ipython3",
   "version": "3.11.9"
  }
 },
 "nbformat": 4,
 "nbformat_minor": 2
}
